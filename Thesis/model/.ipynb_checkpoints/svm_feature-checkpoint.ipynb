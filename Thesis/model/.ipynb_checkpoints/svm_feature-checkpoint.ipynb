{
 "cells": [
  {
   "cell_type": "code",
   "execution_count": 49,
   "metadata": {},
   "outputs": [],
   "source": [
    "from sklearn.preprocessing import OneHotEncoder\n",
    "from sklearn import svm\n",
    "from sklearn.model_selection import train_test_split\n",
    "from sklearn.preprocessing import StandardScaler, LabelEncoder\n",
    "from sklearn.metrics import accuracy_score\n",
    "import pandas as pd\n",
    "import numpy as np\n",
    "from sklearn.metrics import classification_report, confusion_matrix\n",
    "from sklearn.model_selection import GridSearchCV\n",
    "import seaborn as sns\n",
    "import matplotlib.pyplot as plt\n",
    "from sklearn2pmml import sklearn2pmml, PMMLPipeline"
   ]
  },
  {
   "cell_type": "code",
   "execution_count": null,
   "metadata": {},
   "outputs": [],
   "source": [
    "data = pd.read_csv('two_category.csv')\n",
    "data = pd.get_dummies(data, columns=['classic_bluetooth'], prefix='classic_bluetooth')\n",
    "\n",
    "X = np.stack(data[['packet_len', 'ad_cnt', 'classic_bluetooth_unknown', 'classic_bluetooth_yes', 'classic_bluetooth_no']].values)\n",
    "\n",
    "# Label encoder\n",
    "le = LabelEncoder()\n",
    "device_type = le.fit_transform(data['label'])\n",
    "# Split data into training and testing sets\n",
    "X_train, X_test, y_train, y_test = train_test_split(X, device_type, test_size=0.2, random_state=42)\n",
    "\n",
    "# Zero mean and unit variance\n",
    "scaler = StandardScaler()\n",
    "X_train = scaler.fit_transform(X_train)\n",
    "X_test = scaler.transform(X_test)\n",
    "\n",
    "# Define hyperparameters for SVM grid search\n",
    "param_grid = {\n",
    "    'C': [0.01, 0.1, 1, 10],\n",
    "    'kernel': ['linear', 'poly', 'rbf', 'sigmoid'],\n",
    "    'degree': [2, 3, 4],  # only used when kernel is 'poly'\n",
    "    'gamma': ['scale', 'auto'],\n",
    "    'coef0': [0.0, 0.1, 0.5, 1.0],  # only significant for 'poly' and 'sigmoid'\n",
    "}\n",
    "\n",
    "# Grid search with cross-validation for SVM\n",
    "grid = GridSearchCV(svm.SVC(), param_grid, n_jobs=-1, cv=3)\n",
    "grid.fit(X_train, y_train)\n",
    "\n",
    "# Print out the best parameters\n",
    "print('Best parameters found:\\n', grid.best_params_)\n",
    "\n",
    "# Predict using the model with the best parameters\n",
    "y_pred = grid.predict(X_test)\n",
    "\n",
    "# Evaluate the model\n",
    "print('Accuracy:', accuracy_score(y_test, y_pred))"
   ]
  },
  {
   "cell_type": "code",
   "execution_count": 43,
   "metadata": {},
   "outputs": [
    {
     "name": "stdout",
     "output_type": "stream",
     "text": [
      "Accuracy: 0.9453781512605042\n"
     ]
    }
   ],
   "source": [
    "# Label encoder\n",
    "le = LabelEncoder()\n",
    "device_type = le.fit_transform(data['label'])\n",
    "# Split data into training and testing sets\n",
    "X_train, X_test, y_train, y_test = train_test_split(X, device_type, test_size=0.2, random_state=42)\n",
    "\n",
    "# Zero mean and unit variance\n",
    "scaler = StandardScaler()\n",
    "X_train = scaler.fit_transform(X_train)\n",
    "X_test = scaler.transform(X_test)\n",
    "\n",
    "# Define a SVM classifier\n",
    "clf = svm.SVC(C=10, coef0=0.1, degree=4,gamma='scale', kernel='poly')\n",
    "\n",
    "# Train the model\n",
    "clf.fit(X_train, y_train)\n",
    "\n",
    "# Make predictions on the test set\n",
    "y_pred = clf.predict(X_test)\n",
    "\n",
    "# Evaluate the model\n",
    "print('Accuracy:', accuracy_score(y_test, y_pred))"
   ]
  },
  {
   "cell_type": "code",
   "execution_count": null,
   "metadata": {},
   "outputs": [],
   "source": [
    "y_test_pred = clf.predict(X_test)\n",
    "print(\"Classification Report:\")\n",
    "print(classification_report(y_test, y_test_pred))"
   ]
  },
  {
   "cell_type": "code",
   "execution_count": 50,
   "metadata": {},
   "outputs": [
    {
     "data": {
      "image/png": "[encoded data removed]",
      "text/plain": [
       "<Figure size 720x504 with 2 Axes>"
      ]
     },
     "metadata": {
      "needs_background": "light"
     },
     "output_type": "display_data"
    }
   ],
   "source": [
    "cm = confusion_matrix(y_test, y_test_pred)\n",
    "cm_normalized = cm.astype('float') / cm.sum(axis=1)[:, np.newaxis]\n",
    "plt.figure(figsize=(10,7))\n",
    "class_names = ['non-tracker', 'tracker']\n",
    "sns.heatmap(cm_normalized, annot=True, fmt=\".2f\", cmap='Blues', xticklabels=class_names, yticklabels=class_names)\n",
    "plt.xlabel('Predicted')\n",
    "plt.ylabel('True')\n",
    "plt.yticks(rotation=0) \n",
    "plt.show()"
   ]
  },
  {
   "cell_type": "code",
   "execution_count": null,
   "metadata": {},
   "outputs": [],
   "source": [
    "unseen_data = pd.read_csv('two_category_unseen.csv')\n",
    "X_unseen = np.stack(unseen_data[['packet_len', 'ad_cnt', 'bluetooth_unknown',  'bluetooth_yes', 'bluetooth_no']].values)\n",
    "device_type_onehot = encoder.transform(unseen_data[['label']])\n",
    "X_unseen = scaler.transform(X_unseen)\n",
    "y_unseen = device_type_onehot\n",
    "\n",
    "# Unseen devices test\n",
    "y_pred = clf.predict(X_unseen)\n",
    "y_unseen_label = np.argmax(y_unseen, axis=1)\n",
    "score = accuracy_score(y_unseen_label, y_pred)\n",
    "print(score)\n",
    "print(classification_report(y_unseen_label, y_pred))"
   ]
  },
  {
   "cell_type": "code",
   "execution_count": null,
   "metadata": {},
   "outputs": [],
   "source": [
    "cm = confusion_matrix(y_test, y_test_pred)\n",
    "cm_normalized = cm.astype('float') / cm.sum(axis=1)[:, np.newaxis]\n",
    "plt.figure(figsize=(10,7))\n",
    "class_names = ['non-tracker', 'tracker']\n",
    "sns.heatmap(cm_normalized, annot=True, fmt=\".2f\", cmap='Blues', xticklabels=class_names, yticklabels=class_names)\n",
    "plt.xlabel('Predicted')\n",
    "plt.ylabel('True')\n",
    "plt.yticks(rotation=0) \n",
    "plt.show()"
   ]
  }
 ],
 "metadata": {
  "kernelspec": {
   "display_name": "Python 3 (ipykernel)",
   "language": "python",
   "name": "python3"
  },
  "language_info": {
   "codemirror_mode": {
    "name": "ipython",
    "version": 3
   },
   "file_extension": ".py",
   "mimetype": "text/x-python",
   "name": "python",
   "nbconvert_exporter": "python",
   "pygments_lexer": "ipython3",
   "version": "3.8.3"
  }
 },
 "nbformat": 4,
 "nbformat_minor": 4
}
